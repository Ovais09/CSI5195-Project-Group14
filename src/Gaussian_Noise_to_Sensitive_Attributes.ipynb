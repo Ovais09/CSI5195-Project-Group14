{
 "cells": [
  {
   "cell_type": "code",
   "execution_count": 1,
   "metadata": {},
   "outputs": [],
   "source": [
    "import numpy as np\n",
    "import matplotlib.pyplot as plt\n",
    "import pandas as pd\n",
    "import os"
   ]
  },
  {
   "cell_type": "code",
   "execution_count": 2,
   "metadata": {},
   "outputs": [
    {
     "name": "stdout",
     "output_type": "stream",
     "text": [
      "Dataset loaded successfully!\n"
     ]
    }
   ],
   "source": [
    "# Step 1: Load the Processed Dataset\n",
    "try:\n",
    "    df = pd.read_csv(\"../Data/The_Cancer_data_1500_V3_Processed.csv\")  # Adjust the file path as needed\n",
    "    print(\"Dataset loaded successfully!\")\n",
    "except FileNotFoundError:\n",
    "    print(\"Error: The dataset file was not found. Please check the file path.\")\n",
    "    exit()"
   ]
  },
  {
   "cell_type": "code",
   "execution_count": 3,
   "metadata": {},
   "outputs": [],
   "source": [
    "\n",
    "\n",
    "\n",
    "\n",
    "def add_gaussian_noise(data, epsilon, sensitivity=1):\n",
    "    \"\"\"\n",
    "    Add Gaussian noise to a dataset for Differential Privacy.\n",
    "\n",
    "    Args:\n",
    "        data (array-like): The data to add noise to.\n",
    "        epsilon (float): The privacy budget (smaller = more noise, stronger privacy).\n",
    "        sensitivity (float): The sensitivity of the data.\n",
    "    Returns:\n",
    "        Noisy data (array-like).\n",
    "    \"\"\"\n",
    "    scale = sensitivity / epsilon  # Scale of Gaussian noise\n",
    "    noise = np.random.normal(loc=0, scale=scale, size=data.shape)\n",
    "    return data + noise\n"
   ]
  },
  {
   "cell_type": "code",
   "execution_count": 4,
   "metadata": {},
   "outputs": [],
   "source": [
    "epsilon = 1.0  # Adjust privacy budget as needed (smaller = more privacy)\n",
    "sensitive_columns = ['Age', 'BMI', 'PhysicalActivity', 'AlcoholIntake']\n",
    "\n",
    "for col in sensitive_columns:\n",
    "    if col in df.columns:\n",
    "        df[col] = add_gaussian_noise(df[col], epsilon)\n"
   ]
  },
  {
   "cell_type": "code",
   "execution_count": 5,
   "metadata": {},
   "outputs": [
    {
     "name": "stdout",
     "output_type": "stream",
     "text": [
      "DP-Protected dataset saved at: ../Data/The_Cancer_data_DP_Protected.csv\n"
     ]
    }
   ],
   "source": [
    "dp_output_path = \"../Data/The_Cancer_data_DP_Protected.csv\"\n",
    "df.to_csv(dp_output_path, index=False)\n",
    "print(f\"DP-Protected dataset saved at: {dp_output_path}\")\n"
   ]
  },
  {
   "cell_type": "code",
   "execution_count": 6,
   "metadata": {},
   "outputs": [
    {
     "name": "stdout",
     "output_type": "stream",
     "text": [
      "Saved histogram for Age at: ../Data/Age_noise_distribution.png\n",
      "Saved histogram for BMI at: ../Data/BMI_noise_distribution.png\n",
      "Saved histogram for PhysicalActivity at: ../Data/PhysicalActivity_noise_distribution.png\n",
      "Saved histogram for AlcoholIntake at: ../Data/AlcoholIntake_noise_distribution.png\n"
     ]
    }
   ],
   "source": [
    "\n",
    "\n",
    "# Ensure the Data folder exists\n",
    "data_folder = \"../Data/\"\n",
    "if not os.path.exists(data_folder):\n",
    "    os.makedirs(data_folder)\n",
    "\n",
    "# Save histograms for sensitive columns\n",
    "for col in sensitive_columns:\n",
    "    if col in df.columns:\n",
    "        plt.figure(figsize=(10, 5))\n",
    "        plt.hist(df[col], bins=30, alpha=0.5, label=\"Noisy Data\", color='orange')\n",
    "        plt.xlabel(f\"{col} (Noisy)\")\n",
    "        plt.ylabel(\"Frequency\")\n",
    "        plt.title(f\"Distribution of {col} After Noise Addition\")\n",
    "        plt.legend()\n",
    "        \n",
    "        # Save the image\n",
    "        output_path = os.path.join(data_folder, f\"{col}_noise_distribution.png\")\n",
    "        plt.savefig(output_path)\n",
    "        plt.close()  # Close the plot to avoid overlapping\n",
    "        \n",
    "        print(f\"Saved histogram for {col} at: {output_path}\")\n"
   ]
  }
 ],
 "metadata": {
  "kernelspec": {
   "display_name": "Python 3",
   "language": "python",
   "name": "python3"
  },
  "language_info": {
   "codemirror_mode": {
    "name": "ipython",
    "version": 3
   },
   "file_extension": ".py",
   "mimetype": "text/x-python",
   "name": "python",
   "nbconvert_exporter": "python",
   "pygments_lexer": "ipython3",
   "version": "3.12.3"
  }
 },
 "nbformat": 4,
 "nbformat_minor": 2
}
